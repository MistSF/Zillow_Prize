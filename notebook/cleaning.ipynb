{
 "metadata": {
  "language_info": {
   "codemirror_mode": {
    "name": "ipython",
    "version": 3
   },
   "file_extension": ".py",
   "mimetype": "text/x-python",
   "name": "python",
   "nbconvert_exporter": "python",
   "pygments_lexer": "ipython3",
   "version": "3.8.5-final"
  },
  "orig_nbformat": 2,
  "kernelspec": {
   "name": "python385jvsc74a57bd0d9df2dd0f181b47dbe04ad501d25ce8f655d4a846ed4ae986626a912c3b000f4",
   "display_name": "Python 3.8.5 64-bit (conda)"
  }
 },
 "nbformat": 4,
 "nbformat_minor": 2,
 "cells": [
  {
   "cell_type": "code",
   "execution_count": 1,
   "metadata": {},
   "outputs": [],
   "source": [
    "import pandas as pd\n",
    "import seaborn as sns\n",
    "import numpy as np"
   ]
  },
  {
   "cell_type": "code",
   "execution_count": 2,
   "metadata": {},
   "outputs": [
    {
     "output_type": "stream",
     "name": "stderr",
     "text": [
      "C:\\Users\\Mist\\anaconda3\\lib\\site-packages\\IPython\\core\\interactiveshell.py:3146: DtypeWarning: Columns (22,32,34,49,55) have mixed types.Specify dtype option on import or set low_memory=False.\n",
      "  has_raised = await self.run_ast_nodes(code_ast.body, cell_name,\n",
      "C:\\Users\\Mist\\anaconda3\\lib\\site-packages\\IPython\\core\\interactiveshell.py:3146: DtypeWarning: Columns (49) have mixed types.Specify dtype option on import or set low_memory=False.\n",
      "  has_raised = await self.run_ast_nodes(code_ast.body, cell_name,\n"
     ]
    }
   ],
   "source": [
    "df_prop_2016 = pd.read_csv(\"../data/01/properties_2016.csv\")\n",
    "df_prop_2017 = pd.read_csv(\"../data/01/properties_2017.csv\")\n",
    "df_train_2016 = pd.read_csv(\"../data/01/train_2016_v2.csv\")\n",
    "df_train_2017 = pd.read_csv(\"../data/01/train_2017.csv\")"
   ]
  },
  {
   "cell_type": "code",
   "execution_count": 3,
   "metadata": {},
   "outputs": [],
   "source": [
    "df_2016 = df_train_2016.merge(df_prop_2016, how='left', on='parcelid')\n",
    "df_2017 = df_train_2017.merge(df_prop_2017, how='left', on='parcelid')"
   ]
  },
  {
   "cell_type": "code",
   "execution_count": 4,
   "metadata": {},
   "outputs": [
    {
     "output_type": "execute_result",
     "data": {
      "text/plain": [
       "       parcelid  logerror transactiondate  airconditioningtypeid  bathroomcnt  \\\n",
       "0      14297519  0.025595      2017-01-01                    NaN          3.5   \n",
       "1      17052889  0.055619      2017-01-01                    NaN          1.0   \n",
       "2      14186244  0.005383      2017-01-01                    NaN          2.0   \n",
       "3      12177905 -0.103410      2017-01-01                    NaN          3.0   \n",
       "4      10887214  0.006940      2017-01-01                    1.0          3.0   \n",
       "...         ...       ...             ...                    ...          ...   \n",
       "77608  10833991 -0.002245      2017-09-20                    1.0          3.0   \n",
       "77609  11000655  0.020615      2017-09-20                    NaN          2.0   \n",
       "77610  17239384  0.013209      2017-09-21                    NaN          2.0   \n",
       "77611  12773139  0.037129      2017-09-21                    1.0          1.0   \n",
       "77612  12826780  0.007204      2017-09-25                    NaN          2.0   \n",
       "\n",
       "       bedroomcnt  buildingqualitytypeid  calculatedbathnbr  \\\n",
       "0             4.0                    NaN                3.5   \n",
       "1             2.0                    NaN                1.0   \n",
       "2             3.0                    NaN                2.0   \n",
       "3             4.0                    8.0                3.0   \n",
       "4             3.0                    8.0                3.0   \n",
       "...           ...                    ...                ...   \n",
       "77608         3.0                    8.0                3.0   \n",
       "77609         2.0                    6.0                2.0   \n",
       "77610         4.0                    NaN                2.0   \n",
       "77611         3.0                    4.0                1.0   \n",
       "77612         3.0                    6.0                2.0   \n",
       "\n",
       "       calculatedfinishedsquarefeet  finishedsquarefeet12  ...  regionidzip  \\\n",
       "0                            3100.0                3100.0  ...      96978.0   \n",
       "1                            1465.0                1465.0  ...      97099.0   \n",
       "2                            1243.0                1243.0  ...      97078.0   \n",
       "3                            2376.0                2376.0  ...      96330.0   \n",
       "4                            1312.0                1312.0  ...      96451.0   \n",
       "...                             ...                   ...  ...          ...   \n",
       "77608                        1741.0                1741.0  ...      96415.0   \n",
       "77609                        1286.0                1286.0  ...      96284.0   \n",
       "77610                        1612.0                1612.0  ...      97116.0   \n",
       "77611                        1032.0                1032.0  ...      96480.0   \n",
       "77612                        1762.0                1762.0  ...      96171.0   \n",
       "\n",
       "       roomcnt  unitcnt  yearbuilt  structuretaxvaluedollarcnt  \\\n",
       "0          0.0      NaN     1998.0                    485713.0   \n",
       "1          5.0      NaN     1967.0                     88000.0   \n",
       "2          6.0      NaN     1962.0                     85289.0   \n",
       "3          0.0      1.0     1970.0                    108918.0   \n",
       "4          0.0      1.0     1964.0                     73681.0   \n",
       "...        ...      ...        ...                         ...   \n",
       "77608      0.0      1.0     1980.0                    265000.0   \n",
       "77609      0.0      1.0     1940.0                     70917.0   \n",
       "77610      7.0      NaN     1964.0                     50683.0   \n",
       "77611      0.0      1.0     1954.0                     32797.0   \n",
       "77612      0.0      1.0     1955.0                    140000.0   \n",
       "\n",
       "       taxvaluedollarcnt  assessmentyear  landtaxvaluedollarcnt     taxamount  \\\n",
       "0              1023282.0          2016.0               537569.0  11013.719727   \n",
       "1               464000.0          2016.0               376000.0   5672.479980   \n",
       "2               564778.0          2016.0               479489.0   6488.299805   \n",
       "3               145143.0          2016.0                36225.0   1777.510010   \n",
       "4               119407.0          2016.0                45726.0   1533.890015   \n",
       "...                  ...             ...                    ...           ...   \n",
       "77608           379000.0          2016.0               114000.0   4685.339844   \n",
       "77609           354621.0          2016.0               283704.0   4478.430176   \n",
       "77610            67205.0          2016.0                16522.0   1107.479980   \n",
       "77611            49546.0          2016.0                16749.0    876.429993   \n",
       "77612           522000.0          2016.0               382000.0   6317.149902   \n",
       "\n",
       "       censustractandblock  \n",
       "0             6.059063e+13  \n",
       "1             6.111001e+13  \n",
       "2             6.059022e+13  \n",
       "3             6.037300e+13  \n",
       "4             6.037123e+13  \n",
       "...                    ...  \n",
       "77608         6.037132e+13  \n",
       "77609         6.037101e+13  \n",
       "77610         6.111008e+13  \n",
       "77611         6.037434e+13  \n",
       "77612         6.037503e+13  \n",
       "\n",
       "[77613 rows x 35 columns]"
      ],
      "text/html": "<div>\n<style scoped>\n    .dataframe tbody tr th:only-of-type {\n        vertical-align: middle;\n    }\n\n    .dataframe tbody tr th {\n        vertical-align: top;\n    }\n\n    .dataframe thead th {\n        text-align: right;\n    }\n</style>\n<table border=\"1\" class=\"dataframe\">\n  <thead>\n    <tr style=\"text-align: right;\">\n      <th></th>\n      <th>parcelid</th>\n      <th>logerror</th>\n      <th>transactiondate</th>\n      <th>airconditioningtypeid</th>\n      <th>bathroomcnt</th>\n      <th>bedroomcnt</th>\n      <th>buildingqualitytypeid</th>\n      <th>calculatedbathnbr</th>\n      <th>calculatedfinishedsquarefeet</th>\n      <th>finishedsquarefeet12</th>\n      <th>...</th>\n      <th>regionidzip</th>\n      <th>roomcnt</th>\n      <th>unitcnt</th>\n      <th>yearbuilt</th>\n      <th>structuretaxvaluedollarcnt</th>\n      <th>taxvaluedollarcnt</th>\n      <th>assessmentyear</th>\n      <th>landtaxvaluedollarcnt</th>\n      <th>taxamount</th>\n      <th>censustractandblock</th>\n    </tr>\n  </thead>\n  <tbody>\n    <tr>\n      <th>0</th>\n      <td>14297519</td>\n      <td>0.025595</td>\n      <td>2017-01-01</td>\n      <td>NaN</td>\n      <td>3.5</td>\n      <td>4.0</td>\n      <td>NaN</td>\n      <td>3.5</td>\n      <td>3100.0</td>\n      <td>3100.0</td>\n      <td>...</td>\n      <td>96978.0</td>\n      <td>0.0</td>\n      <td>NaN</td>\n      <td>1998.0</td>\n      <td>485713.0</td>\n      <td>1023282.0</td>\n      <td>2016.0</td>\n      <td>537569.0</td>\n      <td>11013.719727</td>\n      <td>6.059063e+13</td>\n    </tr>\n    <tr>\n      <th>1</th>\n      <td>17052889</td>\n      <td>0.055619</td>\n      <td>2017-01-01</td>\n      <td>NaN</td>\n      <td>1.0</td>\n      <td>2.0</td>\n      <td>NaN</td>\n      <td>1.0</td>\n      <td>1465.0</td>\n      <td>1465.0</td>\n      <td>...</td>\n      <td>97099.0</td>\n      <td>5.0</td>\n      <td>NaN</td>\n      <td>1967.0</td>\n      <td>88000.0</td>\n      <td>464000.0</td>\n      <td>2016.0</td>\n      <td>376000.0</td>\n      <td>5672.479980</td>\n      <td>6.111001e+13</td>\n    </tr>\n    <tr>\n      <th>2</th>\n      <td>14186244</td>\n      <td>0.005383</td>\n      <td>2017-01-01</td>\n      <td>NaN</td>\n      <td>2.0</td>\n      <td>3.0</td>\n      <td>NaN</td>\n      <td>2.0</td>\n      <td>1243.0</td>\n      <td>1243.0</td>\n      <td>...</td>\n      <td>97078.0</td>\n      <td>6.0</td>\n      <td>NaN</td>\n      <td>1962.0</td>\n      <td>85289.0</td>\n      <td>564778.0</td>\n      <td>2016.0</td>\n      <td>479489.0</td>\n      <td>6488.299805</td>\n      <td>6.059022e+13</td>\n    </tr>\n    <tr>\n      <th>3</th>\n      <td>12177905</td>\n      <td>-0.103410</td>\n      <td>2017-01-01</td>\n      <td>NaN</td>\n      <td>3.0</td>\n      <td>4.0</td>\n      <td>8.0</td>\n      <td>3.0</td>\n      <td>2376.0</td>\n      <td>2376.0</td>\n      <td>...</td>\n      <td>96330.0</td>\n      <td>0.0</td>\n      <td>1.0</td>\n      <td>1970.0</td>\n      <td>108918.0</td>\n      <td>145143.0</td>\n      <td>2016.0</td>\n      <td>36225.0</td>\n      <td>1777.510010</td>\n      <td>6.037300e+13</td>\n    </tr>\n    <tr>\n      <th>4</th>\n      <td>10887214</td>\n      <td>0.006940</td>\n      <td>2017-01-01</td>\n      <td>1.0</td>\n      <td>3.0</td>\n      <td>3.0</td>\n      <td>8.0</td>\n      <td>3.0</td>\n      <td>1312.0</td>\n      <td>1312.0</td>\n      <td>...</td>\n      <td>96451.0</td>\n      <td>0.0</td>\n      <td>1.0</td>\n      <td>1964.0</td>\n      <td>73681.0</td>\n      <td>119407.0</td>\n      <td>2016.0</td>\n      <td>45726.0</td>\n      <td>1533.890015</td>\n      <td>6.037123e+13</td>\n    </tr>\n    <tr>\n      <th>...</th>\n      <td>...</td>\n      <td>...</td>\n      <td>...</td>\n      <td>...</td>\n      <td>...</td>\n      <td>...</td>\n      <td>...</td>\n      <td>...</td>\n      <td>...</td>\n      <td>...</td>\n      <td>...</td>\n      <td>...</td>\n      <td>...</td>\n      <td>...</td>\n      <td>...</td>\n      <td>...</td>\n      <td>...</td>\n      <td>...</td>\n      <td>...</td>\n      <td>...</td>\n      <td>...</td>\n    </tr>\n    <tr>\n      <th>77608</th>\n      <td>10833991</td>\n      <td>-0.002245</td>\n      <td>2017-09-20</td>\n      <td>1.0</td>\n      <td>3.0</td>\n      <td>3.0</td>\n      <td>8.0</td>\n      <td>3.0</td>\n      <td>1741.0</td>\n      <td>1741.0</td>\n      <td>...</td>\n      <td>96415.0</td>\n      <td>0.0</td>\n      <td>1.0</td>\n      <td>1980.0</td>\n      <td>265000.0</td>\n      <td>379000.0</td>\n      <td>2016.0</td>\n      <td>114000.0</td>\n      <td>4685.339844</td>\n      <td>6.037132e+13</td>\n    </tr>\n    <tr>\n      <th>77609</th>\n      <td>11000655</td>\n      <td>0.020615</td>\n      <td>2017-09-20</td>\n      <td>NaN</td>\n      <td>2.0</td>\n      <td>2.0</td>\n      <td>6.0</td>\n      <td>2.0</td>\n      <td>1286.0</td>\n      <td>1286.0</td>\n      <td>...</td>\n      <td>96284.0</td>\n      <td>0.0</td>\n      <td>1.0</td>\n      <td>1940.0</td>\n      <td>70917.0</td>\n      <td>354621.0</td>\n      <td>2016.0</td>\n      <td>283704.0</td>\n      <td>4478.430176</td>\n      <td>6.037101e+13</td>\n    </tr>\n    <tr>\n      <th>77610</th>\n      <td>17239384</td>\n      <td>0.013209</td>\n      <td>2017-09-21</td>\n      <td>NaN</td>\n      <td>2.0</td>\n      <td>4.0</td>\n      <td>NaN</td>\n      <td>2.0</td>\n      <td>1612.0</td>\n      <td>1612.0</td>\n      <td>...</td>\n      <td>97116.0</td>\n      <td>7.0</td>\n      <td>NaN</td>\n      <td>1964.0</td>\n      <td>50683.0</td>\n      <td>67205.0</td>\n      <td>2016.0</td>\n      <td>16522.0</td>\n      <td>1107.479980</td>\n      <td>6.111008e+13</td>\n    </tr>\n    <tr>\n      <th>77611</th>\n      <td>12773139</td>\n      <td>0.037129</td>\n      <td>2017-09-21</td>\n      <td>1.0</td>\n      <td>1.0</td>\n      <td>3.0</td>\n      <td>4.0</td>\n      <td>1.0</td>\n      <td>1032.0</td>\n      <td>1032.0</td>\n      <td>...</td>\n      <td>96480.0</td>\n      <td>0.0</td>\n      <td>1.0</td>\n      <td>1954.0</td>\n      <td>32797.0</td>\n      <td>49546.0</td>\n      <td>2016.0</td>\n      <td>16749.0</td>\n      <td>876.429993</td>\n      <td>6.037434e+13</td>\n    </tr>\n    <tr>\n      <th>77612</th>\n      <td>12826780</td>\n      <td>0.007204</td>\n      <td>2017-09-25</td>\n      <td>NaN</td>\n      <td>2.0</td>\n      <td>3.0</td>\n      <td>6.0</td>\n      <td>2.0</td>\n      <td>1762.0</td>\n      <td>1762.0</td>\n      <td>...</td>\n      <td>96171.0</td>\n      <td>0.0</td>\n      <td>1.0</td>\n      <td>1955.0</td>\n      <td>140000.0</td>\n      <td>522000.0</td>\n      <td>2016.0</td>\n      <td>382000.0</td>\n      <td>6317.149902</td>\n      <td>6.037503e+13</td>\n    </tr>\n  </tbody>\n</table>\n<p>77613 rows × 35 columns</p>\n</div>"
     },
     "metadata": {},
     "execution_count": 4
    }
   ],
   "source": [
    "step = len(df_2016.index) * .7\n",
    "for x in df_2016.columns :\n",
    "    if df_2016[x].isna().sum() > step :\n",
    "        df_2016 = df_2016.drop([x], axis=1)\n",
    "\n",
    "step = len(df_2017.index) * .7\n",
    "for x in df_2017.columns :\n",
    "    if df_2017[x].isna().sum() > step :\n",
    "        df_2017 = df_2017.drop([x], axis=1)\n",
    "\n",
    "for c, dtype in zip(df_2016.columns, df_2016.dtypes) :\n",
    "    if dtype == np.float64 :\n",
    "        df_2016[c] = df_2016[c].astype(np.float32)\n",
    "\n",
    "for c, dtype in zip(df_2017.columns, df_2017.dtypes) :\n",
    "    if dtype == np.float64 :\n",
    "        df_2017[c] = df_2017[c].astype(np.float32)\n",
    "\n",
    "\n",
    "df_2016.dropna(subset=[\"logerror\"])\n",
    "df_2017.dropna(subset=[\"logerror\"])"
   ]
  },
  {
   "cell_type": "code",
   "execution_count": 7,
   "metadata": {},
   "outputs": [],
   "source": [
    "df = pd.concat([df_2016, df_2017])\n",
    "df.to_csv(\"../data/02/df_zillow.csv\")"
   ]
  }
 ]
}